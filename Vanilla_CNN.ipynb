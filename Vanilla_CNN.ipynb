{
 "cells": [
  {
   "cell_type": "code",
   "execution_count": 1,
   "metadata": {},
   "outputs": [],
   "source": [
    "import numpy as np\n",
    "import pandas as pd\n",
    "import torch\n",
    "\n",
    "import torch.nn as nn\n",
    "import torch.nn.functional as F\n",
    "import torch.optim as optim\n",
    "\n",
    "import matplotlib.pyplot as plt\n",
    "import matplotlib.cm as cm\n",
    "import seaborn as sns\n",
    "import torchvision\n",
    "import torchvision.transforms as transforms\n",
    "\n",
    "device = torch.device(\"cuda:0\" if torch.cuda.is_available() else \"cpu\")"
   ]
  },
  {
   "cell_type": "code",
   "execution_count": 2,
   "metadata": {},
   "outputs": [],
   "source": [
    "def unpickle(filepath):\n",
    "    import pickle\n",
    "    return pickle.load(open(filepath, 'rb'))    "
   ]
  },
  {
   "cell_type": "code",
   "execution_count": 3,
   "metadata": {},
   "outputs": [],
   "source": [
    "PATH_100 = \"./data/cifar-100-python/meta\"\n",
    "PATH_10 = \"./data/cifar-10-batches-py/batches.meta\""
   ]
  },
  {
   "cell_type": "code",
   "execution_count": 4,
   "metadata": {},
   "outputs": [],
   "source": [
    "def class_extractor(dataset):\n",
    "    if dataset == 'CIFAR10':\n",
    "        dict_classes = unpickle(PATH_10)\n",
    "        return tuple(dict_classes['label_names'])\n",
    "    else:\n",
    "        dict_classes = unpickle(PATH_100)\n",
    "        return tuple(dict_classes['fine_label_names'])"
   ]
  },
  {
   "cell_type": "code",
   "execution_count": 5,
   "metadata": {},
   "outputs": [],
   "source": [
    "save = True\n",
    "train = True\n",
    "batch_size = 128\n",
    "n_epochs = 164\n",
    "dataset = 'CIFAR100'"
   ]
  },
  {
   "cell_type": "code",
   "execution_count": 6,
   "metadata": {},
   "outputs": [
    {
     "name": "stdout",
     "output_type": "stream",
     "text": [
      "Files already downloaded and verified\n",
      "Files already downloaded and verified\n"
     ]
    }
   ],
   "source": [
    "transform = transforms.Compose(\n",
    "    [transforms.ToTensor(),\n",
    "     transforms.Normalize((0.5, 0.5, 0.5), (0.5, 0.5, 0.5))])\n",
    "\n",
    "train_load_set_args = {'root':'./data', 'train':True, 'download':True, 'transform':transform}\n",
    "test_load_set_args = {'root':'./data', 'train':False, 'download':True, 'transform':transform}\n",
    "if dataset == 'CIFAR10':\n",
    "    trainset = torchvision.datasets.CIFAR10(**train_load_set_args)\n",
    "    testset = torchvision.datasets.CIFAR10(**test_load_set_args)\n",
    "else:\n",
    "    trainset = torchvision.datasets.CIFAR100(**train_load_set_args)\n",
    "    testset = torchvision.datasets.CIFAR100(**test_load_set_args)\n",
    "\n",
    "trainloader = torch.utils.data.DataLoader(trainset, batch_size=batch_size,\n",
    "                                          shuffle=True, num_workers=2)\n",
    "testloader = torch.utils.data.DataLoader(testset, batch_size=batch_size,\n",
    "                                         shuffle=False, num_workers=2)\n",
    "\n",
    "classes = class_extractor(dataset)\n",
    "n_classes = len(classes)"
   ]
  },
  {
   "cell_type": "code",
   "execution_count": 26,
   "metadata": {},
   "outputs": [
    {
     "data": {
      "text/plain": [
       "50000"
      ]
     },
     "execution_count": 26,
     "metadata": {},
     "output_type": "execute_result"
    }
   ],
   "source": [
    "len(trainset.train_labels)\n",
    "trainset."
   ]
  },
  {
   "cell_type": "code",
   "execution_count": 7,
   "metadata": {},
   "outputs": [],
   "source": [
    "class CNN_vanilla(nn.Module):\n",
    "    def __init__(self):\n",
    "        super().__init__()\n",
    "        self.conv1 = nn.Conv2d(3, 6, 5)\n",
    "        self.pool = nn.MaxPool2d(2, 2)\n",
    "        self.conv2 = nn.Conv2d(6, 16, 5)\n",
    "        self.fc1 = nn.Linear(16 * 5 * 5, 256)\n",
    "        self.fc2 = nn.Linear(256, 256)\n",
    "        self.fc3 = nn.Linear(256, n_classes)\n",
    "\n",
    "    def forward(self, x):\n",
    "        x = self.pool(F.relu(self.conv1(x)))\n",
    "        x = self.pool(F.relu(self.conv2(x)))\n",
    "        x = x.view(-1, 16 * 5 * 5)\n",
    "        x = F.relu(self.fc1(x))\n",
    "        x = F.relu(self.fc2(x))\n",
    "        x = self.fc3(x)\n",
    "        return x"
   ]
  },
  {
   "cell_type": "code",
   "execution_count": 8,
   "metadata": {},
   "outputs": [],
   "source": [
    "net = CNN_vanilla().to(device)\n",
    "loss_function = nn.CrossEntropyLoss()\n",
    "optimizer = optim.SGD(net.parameters(), lr=0.001, momentum=0.9)"
   ]
  },
  {
   "cell_type": "code",
   "execution_count": 9,
   "metadata": {},
   "outputs": [
    {
     "name": "stdout",
     "output_type": "stream",
     "text": [
      "[1, 391] loss: 4.606\n",
      "[2, 391] loss: 4.605\n",
      "[3, 391] loss: 4.605\n",
      "[4, 391] loss: 4.604\n",
      "[5, 391] loss: 4.603\n",
      "[6, 391] loss: 4.602\n",
      "[7, 391] loss: 4.599\n",
      "[8, 391] loss: 4.590\n",
      "[9, 391] loss: 4.550\n",
      "[10, 391] loss: 4.430\n",
      "[11, 391] loss: 4.295\n",
      "[12, 391] loss: 4.182\n",
      "[13, 391] loss: 4.019\n",
      "[14, 391] loss: 3.894\n",
      "[15, 391] loss: 3.823\n",
      "[16, 391] loss: 3.763\n",
      "[17, 391] loss: 3.708\n",
      "[18, 391] loss: 3.652\n",
      "[19, 391] loss: 3.602\n",
      "[20, 391] loss: 3.554\n",
      "[21, 391] loss: 3.510\n",
      "[22, 391] loss: 3.463\n",
      "[23, 391] loss: 3.422\n",
      "[24, 391] loss: 3.379\n",
      "[25, 391] loss: 3.333\n",
      "[26, 391] loss: 3.291\n",
      "[27, 391] loss: 3.249\n",
      "[28, 391] loss: 3.210\n",
      "[29, 391] loss: 3.170\n",
      "[30, 391] loss: 3.133\n",
      "[31, 391] loss: 3.099\n",
      "[32, 391] loss: 3.064\n",
      "[33, 391] loss: 3.027\n",
      "[34, 391] loss: 2.996\n",
      "[35, 391] loss: 2.971\n",
      "[36, 391] loss: 2.936\n",
      "[37, 197] loss: 2.895\r"
     ]
    },
    {
     "ename": "KeyboardInterrupt",
     "evalue": "",
     "output_type": "error",
     "traceback": [
      "\u001b[0;31m---------------------------------------------------------------------------\u001b[0m",
      "\u001b[0;31mKeyboardInterrupt\u001b[0m                         Traceback (most recent call last)",
      "\u001b[0;32m<ipython-input-9-3adadc126688>\u001b[0m in \u001b[0;36m<module>\u001b[0;34m\u001b[0m\n\u001b[1;32m      7\u001b[0m             \u001b[0moutputs\u001b[0m \u001b[0;34m=\u001b[0m \u001b[0mnet\u001b[0m\u001b[0;34m(\u001b[0m\u001b[0minputs\u001b[0m\u001b[0;34m)\u001b[0m\u001b[0;34m\u001b[0m\u001b[0;34m\u001b[0m\u001b[0m\n\u001b[1;32m      8\u001b[0m             \u001b[0mloss\u001b[0m \u001b[0;34m=\u001b[0m \u001b[0mloss_function\u001b[0m\u001b[0;34m(\u001b[0m\u001b[0moutputs\u001b[0m\u001b[0;34m,\u001b[0m \u001b[0mlabels\u001b[0m\u001b[0;34m)\u001b[0m\u001b[0;34m\u001b[0m\u001b[0;34m\u001b[0m\u001b[0m\n\u001b[0;32m----> 9\u001b[0;31m             \u001b[0mloss\u001b[0m\u001b[0;34m.\u001b[0m\u001b[0mbackward\u001b[0m\u001b[0;34m(\u001b[0m\u001b[0;34m)\u001b[0m\u001b[0;34m\u001b[0m\u001b[0;34m\u001b[0m\u001b[0m\n\u001b[0m\u001b[1;32m     10\u001b[0m             \u001b[0moptimizer\u001b[0m\u001b[0;34m.\u001b[0m\u001b[0mstep\u001b[0m\u001b[0;34m(\u001b[0m\u001b[0;34m)\u001b[0m\u001b[0;34m\u001b[0m\u001b[0;34m\u001b[0m\u001b[0m\n\u001b[1;32m     11\u001b[0m \u001b[0;34m\u001b[0m\u001b[0m\n",
      "\u001b[0;32m~/Diego/pytorch_mujoco_env/lib/python3.6/site-packages/torch/tensor.py\u001b[0m in \u001b[0;36mbackward\u001b[0;34m(self, gradient, retain_graph, create_graph)\u001b[0m\n\u001b[1;32m    100\u001b[0m                 \u001b[0mproducts\u001b[0m\u001b[0;34m.\u001b[0m \u001b[0mDefaults\u001b[0m \u001b[0mto\u001b[0m\u001b[0;31m \u001b[0m\u001b[0;31m`\u001b[0m\u001b[0;31m`\u001b[0m\u001b[0;32mFalse\u001b[0m\u001b[0;31m`\u001b[0m\u001b[0;31m`\u001b[0m\u001b[0;34m.\u001b[0m\u001b[0;34m\u001b[0m\u001b[0;34m\u001b[0m\u001b[0m\n\u001b[1;32m    101\u001b[0m         \"\"\"\n\u001b[0;32m--> 102\u001b[0;31m         \u001b[0mtorch\u001b[0m\u001b[0;34m.\u001b[0m\u001b[0mautograd\u001b[0m\u001b[0;34m.\u001b[0m\u001b[0mbackward\u001b[0m\u001b[0;34m(\u001b[0m\u001b[0mself\u001b[0m\u001b[0;34m,\u001b[0m \u001b[0mgradient\u001b[0m\u001b[0;34m,\u001b[0m \u001b[0mretain_graph\u001b[0m\u001b[0;34m,\u001b[0m \u001b[0mcreate_graph\u001b[0m\u001b[0;34m)\u001b[0m\u001b[0;34m\u001b[0m\u001b[0;34m\u001b[0m\u001b[0m\n\u001b[0m\u001b[1;32m    103\u001b[0m \u001b[0;34m\u001b[0m\u001b[0m\n\u001b[1;32m    104\u001b[0m     \u001b[0;32mdef\u001b[0m \u001b[0mregister_hook\u001b[0m\u001b[0;34m(\u001b[0m\u001b[0mself\u001b[0m\u001b[0;34m,\u001b[0m \u001b[0mhook\u001b[0m\u001b[0;34m)\u001b[0m\u001b[0;34m:\u001b[0m\u001b[0;34m\u001b[0m\u001b[0;34m\u001b[0m\u001b[0m\n",
      "\u001b[0;32m~/Diego/pytorch_mujoco_env/lib/python3.6/site-packages/torch/autograd/__init__.py\u001b[0m in \u001b[0;36mbackward\u001b[0;34m(tensors, grad_tensors, retain_graph, create_graph, grad_variables)\u001b[0m\n\u001b[1;32m     88\u001b[0m     Variable._execution_engine.run_backward(\n\u001b[1;32m     89\u001b[0m         \u001b[0mtensors\u001b[0m\u001b[0;34m,\u001b[0m \u001b[0mgrad_tensors\u001b[0m\u001b[0;34m,\u001b[0m \u001b[0mretain_graph\u001b[0m\u001b[0;34m,\u001b[0m \u001b[0mcreate_graph\u001b[0m\u001b[0;34m,\u001b[0m\u001b[0;34m\u001b[0m\u001b[0;34m\u001b[0m\u001b[0m\n\u001b[0;32m---> 90\u001b[0;31m         allow_unreachable=True)  # allow_unreachable flag\n\u001b[0m\u001b[1;32m     91\u001b[0m \u001b[0;34m\u001b[0m\u001b[0m\n\u001b[1;32m     92\u001b[0m \u001b[0;34m\u001b[0m\u001b[0m\n",
      "\u001b[0;31mKeyboardInterrupt\u001b[0m: "
     ]
    }
   ],
   "source": [
    "if train:\n",
    "    for epoch in range(n_epochs):    \n",
    "        avg_loss = 0.0\n",
    "        for i, data in enumerate(trainloader, 0):\n",
    "            inputs, labels = data[0].to(device), data[1].to(device)\n",
    "            optimizer.zero_grad()\n",
    "            outputs = net(inputs)\n",
    "            loss = loss_function(outputs, labels)\n",
    "            loss.backward()\n",
    "            optimizer.step()\n",
    "\n",
    "            avg_loss += (loss.item() - avg_loss)/(i+1)\n",
    "            print('[%d, %3d] loss: %.3f' % (epoch + 1, i + 1, avg_loss), end=\"\\r\")            \n",
    "        print('')\n",
    "    print('Finished Training')"
   ]
  },
  {
   "cell_type": "code",
   "execution_count": 10,
   "metadata": {},
   "outputs": [],
   "source": [
    "if save:\n",
    "    torch.save(net.state_dict(), './nets/'+dataset+'_net.pth')\n",
    "else:\n",
    "    net = CNN_vanilla().to(device)\n",
    "    net.load_state_dict(torch.load('./nets/'+dataset+'_net.pth'))"
   ]
  },
  {
   "cell_type": "code",
   "execution_count": 11,
   "metadata": {},
   "outputs": [
    {
     "name": "stdout",
     "output_type": "stream",
     "text": [
      "Accuracy of the network on the 10000 test images: 25 %\n"
     ]
    }
   ],
   "source": [
    "correct = 0\n",
    "total = 0\n",
    "with torch.no_grad():\n",
    "    for data in testloader:\n",
    "        images, labels = data[0].to(device), data[1].to(device)\n",
    "        outputs = net(images)\n",
    "        _, predicted = torch.max(outputs.data, 1)\n",
    "        total += labels.size(0)\n",
    "        correct += (predicted == labels).sum().item()\n",
    "\n",
    "print('Accuracy of the network on the 10000 test images: %d %%' % (\n",
    "    100 * correct / total))"
   ]
  },
  {
   "cell_type": "code",
   "execution_count": 12,
   "metadata": {},
   "outputs": [
    {
     "name": "stdout",
     "output_type": "stream",
     "text": [
      "Accuracy of apple : 52 %\n",
      "Accuracy of aquarium_fish : 33 %\n",
      "Accuracy of  baby :  5 %\n",
      "Accuracy of  bear : 10 %\n",
      "Accuracy of beaver : 16 %\n",
      "Accuracy of   bed : 29 %\n",
      "Accuracy of   bee : 23 %\n",
      "Accuracy of beetle : 15 %\n",
      "Accuracy of bicycle : 24 %\n",
      "Accuracy of bottle : 28 %\n",
      "Accuracy of  bowl :  4 %\n",
      "Accuracy of   boy : 11 %\n",
      "Accuracy of bridge : 10 %\n",
      "Accuracy of   bus : 10 %\n",
      "Accuracy of butterfly : 29 %\n",
      "Accuracy of camel : 11 %\n",
      "Accuracy of   can : 32 %\n",
      "Accuracy of castle : 50 %\n",
      "Accuracy of caterpillar : 13 %\n",
      "Accuracy of cattle : 28 %\n",
      "Accuracy of chair : 57 %\n",
      "Accuracy of chimpanzee : 56 %\n",
      "Accuracy of clock : 27 %\n",
      "Accuracy of cloud : 47 %\n",
      "Accuracy of cockroach : 47 %\n",
      "Accuracy of couch :  5 %\n",
      "Accuracy of  crab : 12 %\n",
      "Accuracy of crocodile : 15 %\n",
      "Accuracy of   cup : 38 %\n",
      "Accuracy of dinosaur : 14 %\n",
      "Accuracy of dolphin : 33 %\n",
      "Accuracy of elephant : 16 %\n",
      "Accuracy of flatfish : 20 %\n",
      "Accuracy of forest : 25 %\n",
      "Accuracy of   fox :  4 %\n",
      "Accuracy of  girl : 24 %\n",
      "Accuracy of hamster : 25 %\n",
      "Accuracy of house : 18 %\n",
      "Accuracy of kangaroo :  7 %\n",
      "Accuracy of keyboard : 30 %\n",
      "Accuracy of  lamp : 16 %\n",
      "Accuracy of lawn_mower : 49 %\n",
      "Accuracy of leopard : 21 %\n",
      "Accuracy of  lion : 19 %\n",
      "Accuracy of lizard :  7 %\n",
      "Accuracy of lobster :  8 %\n",
      "Accuracy of   man :  6 %\n",
      "Accuracy of maple_tree : 39 %\n",
      "Accuracy of motorcycle : 44 %\n",
      "Accuracy of mountain : 22 %\n",
      "Accuracy of mouse :  5 %\n",
      "Accuracy of mushroom : 25 %\n",
      "Accuracy of oak_tree : 64 %\n",
      "Accuracy of orange : 47 %\n",
      "Accuracy of orchid : 35 %\n",
      "Accuracy of otter :  2 %\n",
      "Accuracy of palm_tree : 34 %\n",
      "Accuracy of  pear : 24 %\n",
      "Accuracy of pickup_truck : 31 %\n",
      "Accuracy of pine_tree : 34 %\n",
      "Accuracy of plain : 73 %\n",
      "Accuracy of plate : 23 %\n",
      "Accuracy of poppy : 56 %\n",
      "Accuracy of porcupine : 21 %\n",
      "Accuracy of possum :  7 %\n",
      "Accuracy of rabbit :  3 %\n",
      "Accuracy of raccoon :  9 %\n",
      "Accuracy of   ray : 25 %\n",
      "Accuracy of  road : 56 %\n",
      "Accuracy of rocket : 44 %\n",
      "Accuracy of  rose : 32 %\n",
      "Accuracy of   sea : 47 %\n",
      "Accuracy of  seal :  7 %\n",
      "Accuracy of shark : 25 %\n",
      "Accuracy of shrew : 21 %\n",
      "Accuracy of skunk : 54 %\n",
      "Accuracy of skyscraper : 54 %\n",
      "Accuracy of snail :  5 %\n",
      "Accuracy of snake : 11 %\n",
      "Accuracy of spider :  5 %\n",
      "Accuracy of squirrel :  5 %\n",
      "Accuracy of streetcar : 13 %\n",
      "Accuracy of sunflower : 56 %\n",
      "Accuracy of sweet_pepper : 16 %\n",
      "Accuracy of table :  8 %\n",
      "Accuracy of  tank : 30 %\n",
      "Accuracy of telephone : 27 %\n",
      "Accuracy of television : 21 %\n",
      "Accuracy of tiger :  8 %\n",
      "Accuracy of tractor : 36 %\n",
      "Accuracy of train : 16 %\n",
      "Accuracy of trout : 38 %\n",
      "Accuracy of tulip : 16 %\n",
      "Accuracy of turtle : 12 %\n",
      "Accuracy of wardrobe : 58 %\n",
      "Accuracy of whale : 37 %\n",
      "Accuracy of willow_tree : 13 %\n",
      "Accuracy of  wolf : 27 %\n",
      "Accuracy of woman :  4 %\n",
      "Accuracy of  worm : 28 %\n"
     ]
    }
   ],
   "source": [
    "n = len(classes)\n",
    "class_correct = list(0. for i in range(n))\n",
    "class_total = list(0. for i in range(n))\n",
    "confusion_matrix = np.zeros([n,n]).astype(int)\n",
    "with torch.no_grad():\n",
    "    for data in testloader:\n",
    "        images, labels = data[0].to(device), data[1].to(device)\n",
    "        outputs = net(images)\n",
    "        _, predicted = torch.max(outputs, 1)\n",
    "        c = (predicted == labels).squeeze()\n",
    "        for i in range(len(labels)):\n",
    "            label = labels[i]\n",
    "            prediction = predicted[i]\n",
    "            class_correct[label] += c[i].item()\n",
    "            class_total[label] += 1\n",
    "            confusion_matrix[label, prediction] += 1\n",
    "\n",
    "for i in range(n):\n",
    "    print('Accuracy of %5s : %2d %%' % (\n",
    "        classes[i], 100 * class_correct[i] / max(class_total[i],1)))"
   ]
  },
  {
   "cell_type": "code",
   "execution_count": 25,
   "metadata": {},
   "outputs": [
    {
     "data": {
      "image/png": "[encoded data removed]",
      "text/plain": [
       "<Figure size 864x720 with 2 Axes>"
      ]
     },
     "metadata": {
      "needs_background": "light"
     },
     "output_type": "display_data"
    }
   ],
   "source": [
    "fig, ax = plt.subplots(figsize=(12,10))\n",
    "\n",
    "confusion_df = pd.DataFrame(data=confusion_matrix, index=classes,\n",
    "                           columns=classes)\n",
    "if dataset == 'CIFAR10':\n",
    "    hm = sns.heatmap(confusion_df, cmap=\"YlGnBu_r\",\n",
    "                annot=True, fmt=\"d\", linewidths=0.1, cbar=False)\n",
    "    hm.set_yticklabels(hm.get_yticklabels(), rotation = 0)\n",
    "else:\n",
    "    hm = sns.heatmap(confusion_matrix, cmap=\"YlGnBu_r\",\n",
    "                    annot=False, fmt=\"d\", linewidths=0, cbar=True,\n",
    "                    xticklabels=False, yticklabels=False)\n",
    "plt.show()"
   ]
  },
  {
   "cell_type": "code",
   "execution_count": null,
   "metadata": {},
   "outputs": [],
   "source": []
  }
 ],
 "metadata": {
  "kernelspec": {
   "display_name": "Python 3",
   "language": "python",
   "name": "python3"
  },
  "language_info": {
   "codemirror_mode": {
    "name": "ipython",
    "version": 3
   },
   "file_extension": ".py",
   "mimetype": "text/x-python",
   "name": "python",
   "nbconvert_exporter": "python",
   "pygments_lexer": "ipython3",
   "version": "3.6.9"
  }
 },
 "nbformat": 4,
 "nbformat_minor": 4
}
